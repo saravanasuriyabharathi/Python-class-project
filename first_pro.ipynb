{
 "cells": [
  {
   "cell_type": "code",
   "execution_count": 2,
   "id": "57605ef9-7ae3-44d2-a702-4d8ae9691554",
   "metadata": {},
   "outputs": [],
   "source": [
    "a=2\n",
    "b=1.2\n",
    "c=\"12\"\n",
    "d=\"UPES\"\n",
    "f=\"False\"\n",
    "e=True\n",
    "g=1+5j"
   ]
  },
  {
   "cell_type": "code",
   "execution_count": 3,
   "id": "6d4c533c-a19b-41d2-a547-27a6842db27a",
   "metadata": {},
   "outputs": [],
   "source": [
    "a= a+5"
   ]
  },
  {
   "cell_type": "code",
   "execution_count": 4,
   "id": "84a0e4df-1a50-4ea4-be8f-b9a26c27dbe1",
   "metadata": {},
   "outputs": [
    {
     "name": "stdout",
     "output_type": "stream",
     "text": [
      "7\n",
      "1.2\n",
      "12\n",
      "UPES\n",
      "False\n",
      "True\n",
      "(1+5j)\n"
     ]
    }
   ],
   "source": [
    "print(a)\n",
    "print(b)\n",
    "print(c)\n",
    "print(d)\n",
    "print(f)\n",
    "print(e)\n",
    "print(g)"
   ]
  },
  {
   "cell_type": "code",
   "execution_count": null,
   "id": "81a6b057-3e6b-46ec-8813-f86de7efe106",
   "metadata": {},
   "outputs": [],
   "source": []
  },
  {
   "cell_type": "code",
   "execution_count": null,
   "id": "72b881d0-d893-4ab7-bb06-7adbac069af5",
   "metadata": {},
   "outputs": [],
   "source": [
    "#22-08-2024(practise)"
   ]
  },
  {
   "cell_type": "code",
   "execution_count": 6,
   "id": "b2504493-9009-4527-bdee-8e48a3e80593",
   "metadata": {},
   "outputs": [],
   "source": [
    "a=10"
   ]
  },
  {
   "cell_type": "code",
   "execution_count": 7,
   "id": "e4c94bf5-9931-48e8-8457-768844d9497a",
   "metadata": {},
   "outputs": [
    {
     "name": "stdout",
     "output_type": "stream",
     "text": [
      "10\n",
      "140714878237400\n",
      "<class 'int'>\n"
     ]
    }
   ],
   "source": [
    "print(a)\n",
    "print(id(a))\n",
    "print(type(a))"
   ]
  },
  {
   "cell_type": "code",
   "execution_count": 8,
   "id": "1b150dae-3769-4e94-ace0-77524c0002e2",
   "metadata": {},
   "outputs": [
    {
     "name": "stdout",
     "output_type": "stream",
     "text": [
      "1.2\n",
      "2379135747888\n",
      "<class 'float'>\n"
     ]
    }
   ],
   "source": [
    "a=1.7\n",
    "print(b)\n",
    "print(id(b))\n",
    "print(type(b))"
   ]
  },
  {
   "cell_type": "code",
   "execution_count": 10,
   "id": "f6224555-7c5d-425d-816a-6ae63a75edac",
   "metadata": {},
   "outputs": [
    {
     "name": "stdout",
     "output_type": "stream",
     "text": [
      "UPES\n",
      "2379136481488\n",
      "<class 'str'>\n"
     ]
    }
   ],
   "source": [
    "c=\"UPES\"\n",
    "print(c)\n",
    "print(id(c)) #id() gave the variable memory address\n",
    "print(type(c)) #type() gave the type of the variable"
   ]
  },
  {
   "cell_type": "code",
   "execution_count": 11,
   "id": "2d488759-090f-4514-873f-47b09a5983ed",
   "metadata": {},
   "outputs": [
    {
     "name": "stdout",
     "output_type": "stream",
     "text": [
      "[1, 2, 3, 4, 5, 6, 7, 8, 9]\n",
      "<class 'list'>\n",
      "2379142414720\n"
     ]
    }
   ],
   "source": [
    "list1=[1,2,3,4,5,6,7,8,9]\n",
    "print(list1)\n",
    "print(type(list1))\n",
    "print(id(list1))"
   ]
  },
  {
   "cell_type": "code",
   "execution_count": 12,
   "id": "269a618b-25a3-4f30-84f4-c7b990663d3d",
   "metadata": {},
   "outputs": [
    {
     "name": "stdout",
     "output_type": "stream",
     "text": [
      "[1, 2, 3, 4, 5, 6, 7, 8, 9, 50]\n"
     ]
    }
   ],
   "source": [
    "list1.append(50) #append used to add element in the list\n",
    "print(list1)"
   ]
  },
  {
   "cell_type": "code",
   "execution_count": 13,
   "id": "55d7071a-0221-4d14-a232-a863b81093b6",
   "metadata": {},
   "outputs": [
    {
     "name": "stdout",
     "output_type": "stream",
     "text": [
      "<class 'list'>\n",
      "2379142414720\n"
     ]
    }
   ],
   "source": [
    "print(type(list1))\n",
    "print(id(list1))"
   ]
  },
  {
   "cell_type": "code",
   "execution_count": 14,
   "id": "2d633bae-4f36-451c-a6af-2dcbc91cfac7",
   "metadata": {},
   "outputs": [
    {
     "name": "stdout",
     "output_type": "stream",
     "text": [
      "a is smaller than b\n"
     ]
    }
   ],
   "source": [
    "a=10\n",
    "b=20\n",
    "# print larger number between a and b\n",
    "if a>b: #it is used to check the condition\n",
    "    print(\"a is greater than b\")   # print when condition true  \n",
    "else:\n",
    "    print(\"a is smaller than b\")   # printwhen condtion is false"
   ]
  },
  {
   "cell_type": "code",
   "execution_count": 15,
   "id": "2f860953-9b91-4a50-b797-2887f9d4fc37",
   "metadata": {},
   "outputs": [
    {
     "data": {
      "text/plain": [
       "'\\nthis is comment 2\\n'"
      ]
     },
     "execution_count": 15,
     "metadata": {},
     "output_type": "execute_result"
    }
   ],
   "source": [
    "'''\n",
    "This is comment 1\n",
    "'''\n",
    "\n",
    "\n",
    "\"\"\"\n",
    "this is comment 2\n",
    "\"\"\""
   ]
  },
  {
   "cell_type": "code",
   "execution_count": 3,
   "id": "53d51a35-d766-470c-99d0-054b0a0c5f26",
   "metadata": {},
   "outputs": [
    {
     "name": "stdout",
     "output_type": "stream",
     "text": [
      "this is test string\n",
      "This is second test string\n",
      "2548183652016 2548177616480 \n",
      " <class 'str'>\n"
     ]
    }
   ],
   "source": [
    "#String\n",
    "\n",
    "str1=\"this is test string\"\n",
    "str2=\"This is second test string\"\n",
    "print(str1)\n",
    "print(str2)\n",
    "print(id(str1),id(str2),\"\\n\",end=\" \",)\n",
    "print(type(str1))\n"
   ]
  },
  {
   "cell_type": "code",
   "execution_count": 4,
   "id": "9e94aa50-6191-4977-ae04-00e75e6771b2",
   "metadata": {},
   "outputs": [
    {
     "name": "stdout",
     "output_type": "stream",
     "text": [
      "this is \"test\" string \n",
      " this is \\second string\n"
     ]
    }
   ],
   "source": [
    "str3=\"this is \\\"test\\\" string \\n\"\n",
    "str4=r\"this is \\second string\"   #used to print the row element as it show\n",
    "print(str3,str4)"
   ]
  },
  {
   "cell_type": "code",
   "execution_count": 6,
   "id": "2f3b1896-1831-4ad8-9835-6a9536b9be57",
   "metadata": {},
   "outputs": [
    {
     "name": "stdout",
     "output_type": "stream",
     "text": [
      "this is test string\n",
      "THIS IS SECOND TEST STRING\n"
     ]
    }
   ],
   "source": [
    "str1=str1.lower() # showing string in lower form\n",
    "str2=str2.upper() # showing string in the upper form\n",
    "print(str1)\n",
    "print(str2)"
   ]
  },
  {
   "cell_type": "code",
   "execution_count": 49,
   "id": "a186c02e-2d98-47e9-bfc6-f9a28e1faf3b",
   "metadata": {},
   "outputs": [
    {
     "data": {
      "text/plain": [
       "'this is \\\\2 string'"
      ]
     },
     "execution_count": 49,
     "metadata": {},
     "output_type": "execute_result"
    }
   ],
   "source": [
    "str4.replace(\"second\",\"2\") #replace comand used to replace element from previous"
   ]
  },
  {
   "cell_type": "code",
   "execution_count": 8,
   "id": "87335350-d350-471b-953b-2aea54abc012",
   "metadata": {},
   "outputs": [
    {
     "name": "stdout",
     "output_type": "stream",
     "text": [
      "2548183652528 2548183878112\n",
      "this is test string THIS IS SECOND TEST STRING\n"
     ]
    }
   ],
   "source": [
    "#printing the address of the changed data\n",
    "print(id(str1),id(str2))\n",
    "print(str1,str2)"
   ]
  },
  {
   "cell_type": "code",
   "execution_count": 62,
   "id": "0b5d6451-9b57-4668-bfb2-9107a33f225f",
   "metadata": {},
   "outputs": [
    {
     "data": {
      "text/plain": [
       "'hello python'"
      ]
     },
     "execution_count": 62,
     "metadata": {},
     "output_type": "execute_result"
    }
   ],
   "source": [
    "\n",
    "str1=\"hello\"\n",
    "str2=\"python\"\n",
    "\n",
    "str1+\" \"+str2 #used to print in the single string"
   ]
  },
  {
   "cell_type": "code",
   "execution_count": 63,
   "id": "950432aa-ae83-4301-bda1-84343649032a",
   "metadata": {},
   "outputs": [
    {
     "data": {
      "text/plain": [
       "'hellohellohellohello'"
      ]
     },
     "execution_count": 63,
     "metadata": {},
     "output_type": "execute_result"
    }
   ],
   "source": [
    "str1*4 #used to print element multiple time"
   ]
  },
  {
   "cell_type": "code",
   "execution_count": 64,
   "id": "d7db8fe3-a59a-4849-9ef9-c4de3dc6eee6",
   "metadata": {},
   "outputs": [
    {
     "name": "stdout",
     "output_type": "stream",
     "text": [
      "True\n",
      "False\n"
     ]
    }
   ],
   "source": [
    "print(\"h\" in str1) #checking the element is present or not\n",
    "print(\"j\" in str1)"
   ]
  },
  {
   "cell_type": "code",
   "execution_count": 9,
   "id": "08d4b6b3-2cda-4b17-b17f-8c755db17903",
   "metadata": {},
   "outputs": [
    {
     "data": {
      "text/plain": [
       "'this is test string'"
      ]
     },
     "execution_count": 9,
     "metadata": {},
     "output_type": "execute_result"
    }
   ],
   "source": [
    "str1"
   ]
  },
  {
   "cell_type": "code",
   "execution_count": 10,
   "id": "ded92d9d-7f4a-40d4-953e-dbf4f663ee0b",
   "metadata": {},
   "outputs": [
    {
     "name": "stdout",
     "output_type": "stream",
     "text": [
      "this is test string\n"
     ]
    }
   ],
   "source": [
    "print(str1)"
   ]
  },
  {
   "cell_type": "code",
   "execution_count": 13,
   "id": "0c6d81ee-925d-444d-af03-929c4404ccd7",
   "metadata": {},
   "outputs": [
    {
     "data": {
      "text/plain": [
       "'t'"
      ]
     },
     "execution_count": 13,
     "metadata": {},
     "output_type": "execute_result"
    }
   ],
   "source": [
    "str1[0] #showing the element with using its index"
   ]
  },
  {
   "cell_type": "code",
   "execution_count": 12,
   "id": "8af879a3-fa60-49b8-b773-0848017c539f",
   "metadata": {},
   "outputs": [
    {
     "data": {
      "text/plain": [
       "'this '"
      ]
     },
     "execution_count": 12,
     "metadata": {},
     "output_type": "execute_result"
    }
   ],
   "source": [
    "str1[0:5]"
   ]
  },
  {
   "cell_type": "code",
   "execution_count": 83,
   "id": "4673f60d-e0dc-4d27-9557-746c208b91e9",
   "metadata": {},
   "outputs": [
    {
     "name": "stdout",
     "output_type": "stream",
     "text": [
      "0123456789\n"
     ]
    }
   ],
   "source": [
    "numberstr= \"0123456789\"\n",
    "print(numberstr)"
   ]
  },
  {
   "cell_type": "code",
   "execution_count": 84,
   "id": "8f521dc9-e0b5-4a65-84ad-fa9807e6356a",
   "metadata": {},
   "outputs": [
    {
     "data": {
      "text/plain": [
       "'4'"
      ]
     },
     "execution_count": 84,
     "metadata": {},
     "output_type": "execute_result"
    }
   ],
   "source": [
    "numberstr[4]"
   ]
  },
  {
   "cell_type": "code",
   "execution_count": 85,
   "id": "7cc25d99-a426-40f8-9cab-48330f00f0dd",
   "metadata": {},
   "outputs": [
    {
     "data": {
      "text/plain": [
       "10"
      ]
     },
     "execution_count": 85,
     "metadata": {},
     "output_type": "execute_result"
    }
   ],
   "source": [
    "len(numberstr) #len() used to show the length of the element"
   ]
  },
  {
   "cell_type": "code",
   "execution_count": 87,
   "id": "790b1c33-b8de-43ed-bb08-9e34747f2099",
   "metadata": {},
   "outputs": [
    {
     "data": {
      "text/plain": [
       "'8'"
      ]
     },
     "execution_count": 87,
     "metadata": {},
     "output_type": "execute_result"
    }
   ],
   "source": [
    "numberstr[-2] #using -ve index we get element"
   ]
  },
  {
   "cell_type": "code",
   "execution_count": null,
   "id": "7634135b-9633-4f34-88f8-4268821ef664",
   "metadata": {},
   "outputs": [],
   "source": [
    "#string formating"
   ]
  },
  {
   "cell_type": "code",
   "execution_count": 90,
   "id": "cb82779e-edac-4743-b26d-da87349d52f1",
   "metadata": {},
   "outputs": [
    {
     "name": "stdout",
     "output_type": "stream",
     "text": [
      "My name is UPES and i liked Campus\n"
     ]
    }
   ],
   "source": [
    "name=\"UPES\"\n",
    "fav=\"Campus\"\n",
    "#  name upes and i liked campus\n",
    "\n",
    "print(\"My name is \"+name+\" and i liked \"+fav)#print given input with the additional command"
   ]
  },
  {
   "cell_type": "code",
   "execution_count": 92,
   "id": "e0757ec0-54a4-4f88-90f5-a98a840c2898",
   "metadata": {},
   "outputs": [
    {
     "name": "stdout",
     "output_type": "stream",
     "text": [
      "My name is Siddharth and i an 20 years old.\n"
     ]
    }
   ],
   "source": [
    "name=\"Siddharth\"\n",
    "age=20\n",
    "print(\"My name is %s and i an %d years old.\"%(name,age))#using the %d,%s for print the int as well as string"
   ]
  },
  {
   "cell_type": "code",
   "execution_count": 95,
   "id": "e3932158-d2ef-4236-be97-3563cccb2e99",
   "metadata": {},
   "outputs": [
    {
     "name": "stdout",
     "output_type": "stream",
     "text": [
      "My name is {} and i am {} years old.\n"
     ]
    }
   ],
   "source": [
    "str_Placeholders = \"My name is {} and i am {} years old.\"\n",
    "print(str_Placeholders)"
   ]
  },
  {
   "cell_type": "code",
   "execution_count": 96,
   "id": "3b12a831-2d0d-438a-8487-b9da4d08ef6d",
   "metadata": {},
   "outputs": [
    {
     "data": {
      "text/plain": [
       "'My name is Siddharth and i am 20 years old.'"
      ]
     },
     "execution_count": 96,
     "metadata": {},
     "output_type": "execute_result"
    }
   ],
   "source": [
    "str_Placeholders.format(name,age)"
   ]
  },
  {
   "cell_type": "code",
   "execution_count": 98,
   "id": "27f1cc29-3a2f-49b4-b075-430427576d9c",
   "metadata": {},
   "outputs": [
    {
     "name": "stdout",
     "output_type": "stream",
     "text": [
      "My name is Siddharth and i am 20 years old.\n"
     ]
    }
   ],
   "source": [
    "fstr=f\"My name is {name} and i am {age} years old.\"\n",
    "print(fstr)"
   ]
  },
  {
   "cell_type": "code",
   "execution_count": 101,
   "id": "e3f566a9-fe33-453b-99af-ae9f9b8a83df",
   "metadata": {},
   "outputs": [
    {
     "data": {
      "text/plain": [
       "10.0"
      ]
     },
     "execution_count": 101,
     "metadata": {},
     "output_type": "execute_result"
    }
   ],
   "source": [
    "100/10"
   ]
  },
  {
   "cell_type": "code",
   "execution_count": 102,
   "id": "f843d256-9f3f-4f71-bbad-6772658a9a4b",
   "metadata": {},
   "outputs": [
    {
     "data": {
      "text/plain": [
       "2469"
      ]
     },
     "execution_count": 102,
     "metadata": {},
     "output_type": "execute_result"
    }
   ],
   "source": [
    "12345//5"
   ]
  },
  {
   "cell_type": "code",
   "execution_count": 103,
   "id": "4eea746b-843b-4d96-a5c3-4dff75af17da",
   "metadata": {},
   "outputs": [
    {
     "data": {
      "text/plain": [
       "1000"
      ]
     },
     "execution_count": 103,
     "metadata": {},
     "output_type": "execute_result"
    }
   ],
   "source": [
    "10**3"
   ]
  },
  {
   "cell_type": "code",
   "execution_count": 104,
   "id": "38dc6bf4-9914-412e-a6d9-1b76f1109d17",
   "metadata": {},
   "outputs": [
    {
     "data": {
      "text/plain": [
       "100"
      ]
     },
     "execution_count": 104,
     "metadata": {},
     "output_type": "execute_result"
    }
   ],
   "source": [
    "pow(10,2)"
   ]
  },
  {
   "cell_type": "code",
   "execution_count": 105,
   "id": "f9aaa5bd-a5d1-465b-8b7a-b0a9e4c156c9",
   "metadata": {},
   "outputs": [],
   "source": [
    "a=(1,234,23,345,3466,0,-3,123,-1)# tuple element"
   ]
  },
  {
   "cell_type": "code",
   "execution_count": 106,
   "id": "e908bf9f-2406-4d7d-a58b-e5763db1dc0a",
   "metadata": {},
   "outputs": [
    {
     "data": {
      "text/plain": [
       "-3"
      ]
     },
     "execution_count": 106,
     "metadata": {},
     "output_type": "execute_result"
    }
   ],
   "source": [
    "min(a)"
   ]
  },
  {
   "cell_type": "code",
   "execution_count": 107,
   "id": "385dbe5d-4b23-4f06-b0ae-df09a1300642",
   "metadata": {},
   "outputs": [
    {
     "data": {
      "text/plain": [
       "3466"
      ]
     },
     "execution_count": 107,
     "metadata": {},
     "output_type": "execute_result"
    }
   ],
   "source": [
    "max(a)"
   ]
  },
  {
   "cell_type": "code",
   "execution_count": 108,
   "id": "e338ffce-ddad-4165-a45d-4ebad56778b8",
   "metadata": {},
   "outputs": [
    {
     "data": {
      "text/plain": [
       "4188"
      ]
     },
     "execution_count": 108,
     "metadata": {},
     "output_type": "execute_result"
    }
   ],
   "source": [
    "sum(a)"
   ]
  },
  {
   "cell_type": "code",
   "execution_count": null,
   "id": "c70c954f-f2a7-48e4-9faa-838a107429a4",
   "metadata": {},
   "outputs": [],
   "source": [
    "#taking input from the user"
   ]
  },
  {
   "cell_type": "code",
   "execution_count": 109,
   "id": "759a726a-3413-4124-86a4-8f74f5c15fcc",
   "metadata": {},
   "outputs": [
    {
     "name": "stdin",
     "output_type": "stream",
     "text": [
      "enter your college name: upes\n"
     ]
    },
    {
     "name": "stdout",
     "output_type": "stream",
     "text": [
      "upes\n"
     ]
    }
   ],
   "source": [
    "new=input(\"enter your college name:\")\n",
    "print(new)"
   ]
  },
  {
   "cell_type": "code",
   "execution_count": 110,
   "id": "16a4832e-6f9b-4032-8791-7e8e605272f9",
   "metadata": {},
   "outputs": [
    {
     "name": "stdin",
     "output_type": "stream",
     "text": [
      "enter your college name: upes\n"
     ]
    },
    {
     "name": "stdout",
     "output_type": "stream",
     "text": [
      "Hi upes\n"
     ]
    }
   ],
   "source": [
    "new=input(\"enter your college name:\")\n",
    "print(f\"Hi {new}\")"
   ]
  },
  {
   "cell_type": "code",
   "execution_count": 111,
   "id": "18f47122-c4a6-4c08-b788-6f722de645b2",
   "metadata": {},
   "outputs": [
    {
     "name": "stdin",
     "output_type": "stream",
     "text": [
      "enter your batch no. b4\n"
     ]
    },
    {
     "name": "stdout",
     "output_type": "stream",
     "text": [
      "my batch number: b4\n"
     ]
    }
   ],
   "source": [
    "new=input(\"enter your batch no.\")\n",
    "print(f\"my batch number: {new}\")"
   ]
  },
  {
   "cell_type": "code",
   "execution_count": 114,
   "id": "f035b6a0-fa58-49cd-82f7-3acc92ecaf26",
   "metadata": {},
   "outputs": [
    {
     "data": {
      "text/plain": [
       "True"
      ]
     },
     "execution_count": 114,
     "metadata": {},
     "output_type": "execute_result"
    }
   ],
   "source": [
    "a=1\n",
    "b=1.1\n",
    "c=bool(a+b)\n",
    "c"
   ]
  },
  {
   "cell_type": "code",
   "execution_count": 115,
   "id": "be08fc22-ce03-454b-9a97-6f263f27a491",
   "metadata": {},
   "outputs": [
    {
     "data": {
      "text/plain": [
       "True"
      ]
     },
     "execution_count": 115,
     "metadata": {},
     "output_type": "execute_result"
    }
   ],
   "source": [
    "a=1\n",
    "b=-1.1\n",
    "d=bool(a+b)\n",
    "d"
   ]
  },
  {
   "cell_type": "code",
   "execution_count": 123,
   "id": "fca5800a-3840-4ccd-8374-c0de295bdc4d",
   "metadata": {},
   "outputs": [
    {
     "name": "stdout",
     "output_type": "stream",
     "text": [
      "-0.6000000000000001\n"
     ]
    }
   ],
   "source": [
    "a=1\n",
    "b=-1.6\n",
    "c=str(a+b)\n",
    "print(c)"
   ]
  },
  {
   "cell_type": "code",
   "execution_count": 126,
   "id": "9cf3031f-c4e7-4b6a-8714-9feab5e298a7",
   "metadata": {},
   "outputs": [
    {
     "name": "stdout",
     "output_type": "stream",
     "text": [
      "-0.6\n"
     ]
    }
   ],
   "source": [
    "print(c[0:-15])"
   ]
  },
  {
   "cell_type": "code",
   "execution_count": 1,
   "id": "fe2ad67a-735d-4789-ad98-80dda86b7dc1",
   "metadata": {},
   "outputs": [
    {
     "name": "stdout",
     "output_type": "stream",
     "text": [
      "a<b and c<d\n"
     ]
    }
   ],
   "source": [
    "a=1\n",
    "b=2\n",
    "c=3\n",
    "d=4\n",
    "if a<b:\n",
    "    if c<d:\n",
    "        print(\"a<b and c<d\")"
   ]
  },
  {
   "cell_type": "code",
   "execution_count": 2,
   "id": "5259d33c-091f-4d7e-8156-ff2d1a61a0cf",
   "metadata": {},
   "outputs": [
    {
     "name": "stdout",
     "output_type": "stream",
     "text": [
      "a<b and c<d\n"
     ]
    }
   ],
   "source": [
    "if a<b and c<d:\n",
    "    print(\"a<b and c<d\")"
   ]
  },
  {
   "cell_type": "code",
   "execution_count": 3,
   "id": "a90129ff-ad20-4862-a434-30ce0d6b5279",
   "metadata": {},
   "outputs": [
    {
     "name": "stdout",
     "output_type": "stream",
     "text": [
      "0b110\n",
      "0b100\n"
     ]
    }
   ],
   "source": [
    "a=6\n",
    "b=4\n",
    "print(bin(a))\n",
    "print(bin(b))"
   ]
  },
  {
   "cell_type": "code",
   "execution_count": null,
   "id": "e4c59e37-ebe5-437f-877c-4684ced851f3",
   "metadata": {},
   "outputs": [],
   "source": []
  },
  {
   "cell_type": "code",
   "execution_count": 5,
   "id": "6a945aeb-fc4b-473b-972d-4bf94d808730",
   "metadata": {},
   "outputs": [
    {
     "name": "stdout",
     "output_type": "stream",
     "text": [
      "0b110\n"
     ]
    }
   ],
   "source": [
    "print(bin(a|b)) #bitwise OR"
   ]
  },
  {
   "cell_type": "code",
   "execution_count": 6,
   "id": "4d59fd0c-49c9-40af-828e-ce15f68ecb37",
   "metadata": {},
   "outputs": [
    {
     "name": "stdout",
     "output_type": "stream",
     "text": [
      "0b10000000\n"
     ]
    }
   ],
   "source": [
    "a=128\n",
    "print(bin(a))"
   ]
  },
  {
   "cell_type": "code",
   "execution_count": 9,
   "id": "9ce79b18-4d0b-4d7a-8601-f9d64a9fbc4b",
   "metadata": {},
   "outputs": [
    {
     "name": "stdout",
     "output_type": "stream",
     "text": [
      "0b100000\n"
     ]
    }
   ],
   "source": [
    "shifteda=a >> 2\n",
    "print(bin(shifteda))"
   ]
  },
  {
   "cell_type": "code",
   "execution_count": 10,
   "id": "fa63b992-a75a-4d71-9b19-8e1c43bc3f8e",
   "metadata": {},
   "outputs": [
    {
     "data": {
      "text/plain": [
       "32"
      ]
     },
     "execution_count": 10,
     "metadata": {},
     "output_type": "execute_result"
    }
   ],
   "source": [
    "shifteda"
   ]
  },
  {
   "cell_type": "code",
   "execution_count": 12,
   "id": "2b85e5d6-d882-4a28-8b50-d288241bd4fe",
   "metadata": {},
   "outputs": [
    {
     "name": "stdout",
     "output_type": "stream",
     "text": [
      "2\n",
      "3\n",
      "4\n",
      "5\n",
      "6\n",
      "7\n",
      "8\n",
      "9\n",
      "10\n"
     ]
    }
   ],
   "source": [
    "a=10\n",
    "b=1\n",
    "while b<a:\n",
    "    b=b+1\n",
    "    print(b)\n",
    "    "
   ]
  },
  {
   "cell_type": "code",
   "execution_count": 19,
   "id": "ba5d723d-b137-4997-a1a4-c528f1af4567",
   "metadata": {},
   "outputs": [
    {
     "name": "stdout",
     "output_type": "stream",
     "text": [
      "0\n",
      "1\n",
      "2\n",
      "3\n",
      "4\n",
      "5\n",
      "6\n",
      "7\n",
      "8\n",
      "9\n"
     ]
    }
   ],
   "source": [
    "for i in range(0,10):\n",
    "    print(i)"
   ]
  },
  {
   "cell_type": "code",
   "execution_count": 15,
   "id": "898521b3-e2c0-4bb1-b9be-7f9713b0b4a5",
   "metadata": {},
   "outputs": [
    {
     "name": "stdout",
     "output_type": "stream",
     "text": [
      "2\n",
      "4\n",
      "6\n",
      "8\n",
      "10\n"
     ]
    }
   ],
   "source": [
    "list2=[2,4,6,8,10]\n",
    "for i in list2:\n",
    "    print(i)"
   ]
  },
  {
   "cell_type": "code",
   "execution_count": 17,
   "id": "228cb32a-3f92-4f89-a358-e34c06803881",
   "metadata": {},
   "outputs": [
    {
     "data": {
      "text/plain": [
       "range(0, 10)"
      ]
     },
     "execution_count": 17,
     "metadata": {},
     "output_type": "execute_result"
    }
   ],
   "source": [
    "range(0,10)"
   ]
  },
  {
   "cell_type": "code",
   "execution_count": 22,
   "id": "147bd70e-83a6-4f3a-b2de-360933296ace",
   "metadata": {},
   "outputs": [
    {
     "name": "stdout",
     "output_type": "stream",
     "text": [
      "Hello Python\n",
      "Hello Python\n",
      "Hello Python\n",
      "Hello Python\n",
      "Hello Python\n",
      "Hello Python\n",
      "Hello Python\n",
      "Hello Python\n",
      "Hello Python\n",
      "Hello Python\n",
      "Hello Python\n",
      "Hello Python\n"
     ]
    }
   ],
   "source": [
    "str2=\"Hello Python\"\n",
    "for i in range(0,len(str2)):\n",
    "    print(str2)"
   ]
  },
  {
   "cell_type": "code",
   "execution_count": 24,
   "id": "15d5cfce-da28-4ffa-a2ce-ad7312799cf7",
   "metadata": {},
   "outputs": [
    {
     "name": "stdout",
     "output_type": "stream",
     "text": [
      "H\n",
      "e\n",
      "l\n",
      "l\n",
      "o\n",
      " \n",
      "P\n",
      "y\n",
      "t\n",
      "h\n",
      "o\n",
      "n\n"
     ]
    }
   ],
   "source": [
    "str2=\"Hello Python\"\n",
    "for i in range(0,len(str2)):\n",
    "    print(str2[i])"
   ]
  },
  {
   "cell_type": "code",
   "execution_count": null,
   "id": "6cab1fd5-0e3a-48b2-98cf-0149510a8f35",
   "metadata": {},
   "outputs": [],
   "source": [
    "if a<b:\n",
    "    pass\n",
    "if b<a:\n",
    "    pass\n",
    "else:\n",
    "    pass"
   ]
  }
 ],
 "metadata": {
  "kernelspec": {
   "display_name": "Python 3 (ipykernel)",
   "language": "python",
   "name": "python3"
  },
  "language_info": {
   "codemirror_mode": {
    "name": "ipython",
    "version": 3
   },
   "file_extension": ".py",
   "mimetype": "text/x-python",
   "name": "python",
   "nbconvert_exporter": "python",
   "pygments_lexer": "ipython3",
   "version": "3.12.4"
  }
 },
 "nbformat": 4,
 "nbformat_minor": 5
}
