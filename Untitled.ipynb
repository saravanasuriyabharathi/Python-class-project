{
 "cells": [
  {
   "cell_type": "code",
   "execution_count": null,
   "id": "b961e425-27fb-46fc-a9a4-aef4831fa946",
   "metadata": {},
   "outputs": [],
   "source": []
  },
  {
   "cell_type": "code",
   "execution_count": null,
   "id": "468bc675-a93d-4df7-9eeb-44a782060636",
   "metadata": {},
   "outputs": [],
   "source": [
    "def show_details(*args):\n",
    "    for i in range(len(args)):\n",
    "    variable =args\n",
    "    "
   ]
  }
 ],
 "metadata": {
  "kernelspec": {
   "display_name": "Python 3 (ipykernel)",
   "language": "python",
   "name": "python3"
  },
  "language_info": {
   "codemirror_mode": {
    "name": "ipython",
    "version": 3
   },
   "file_extension": ".py",
   "mimetype": "text/x-python",
   "name": "python",
   "nbconvert_exporter": "python",
   "pygments_lexer": "ipython3",
   "version": "3.12.4"
  }
 },
 "nbformat": 4,
 "nbformat_minor": 5
}
