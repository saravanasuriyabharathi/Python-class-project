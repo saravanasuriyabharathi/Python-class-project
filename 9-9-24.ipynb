{
 "cells": [
  {
   "cell_type": "code",
   "execution_count": 4,
   "id": "8270a25b-a683-4144-83d7-860a2ab6d3f8",
   "metadata": {},
   "outputs": [
    {
     "name": "stdout",
     "output_type": "stream",
     "text": [
      "30\n",
      "20\n",
      "10\n"
     ]
    }
   ],
   "source": [
    "#scopes\n",
    "x=10\n",
    "def outer_function():\n",
    "    x=20\n",
    "    def inner_function():\n",
    "        x=30\n",
    "        print(x)\n",
    "    inner_function()\n",
    "    print(x)\n",
    "\n",
    "outer_function()\n",
    "print(x)"
   ]
  },
  {
   "cell_type": "code",
   "execution_count": 16,
   "id": "723b8810-66fe-46ba-abe5-0adfca3c5266",
   "metadata": {},
   "outputs": [
    {
     "name": "stdout",
     "output_type": "stream",
     "text": [
      "5\n",
      "4\n"
     ]
    }
   ],
   "source": [
    "def square(x):\n",
    "    return x  #xAssigning a function to a varibale\n",
    "\n",
    "f=square\n",
    "print(f(5))\n",
    "def apply_function(func,value):\n",
    "    return value\n",
    "result=apply_function(square,4)\n",
    "print(result)"
   ]
  },
  {
   "cell_type": "code",
   "execution_count": 36,
   "id": "17cac814-98ce-44d8-8f15-5110e9976ddf",
   "metadata": {},
   "outputs": [
    {
     "name": "stdout",
     "output_type": "stream",
     "text": [
      "8\n",
      "[]\n"
     ]
    }
   ],
   "source": [
    "add=lambda a,b: a+b\n",
    "print(add(3,5))\n",
    "numbers=[1,2,3,4]\n",
    "squares=map(lambda x: x*x,numbers)\n",
    "print(list(squared))\n"
   ]
  },
  {
   "cell_type": "code",
   "execution_count": 23,
   "id": "a9bacbd0-287f-423b-ab2b-a491d06057e0",
   "metadata": {},
   "outputs": [
    {
     "name": "stdout",
     "output_type": "stream",
     "text": [
      "24\n"
     ]
    }
   ],
   "source": [
    "multiply_three = lambda x, y, z: x * y * z\n",
    "\n",
    "# Example usage:\n",
    "result = multiply_three(2, 3, 4)\n",
    "print(result)  # Output: 24\n",
    "\n"
   ]
  },
  {
   "cell_type": "code",
   "execution_count": 33,
   "id": "d2ccb992-9367-42db-8e53-aa4669a9a29c",
   "metadata": {},
   "outputs": [
    {
     "name": "stdout",
     "output_type": "stream",
     "text": [
      "[1, 4, 9, 16, 25, 36, 49, 64, 81, 0]\n",
      "[2, 4, 6, 8, 0]\n"
     ]
    }
   ],
   "source": [
    "numbers=[1,2,3,4,5,6,7,8,9,0]\n",
    "squared=map(lambda x:x*x,numbers)\n",
    "print(list(squared))\n",
    "even_numbers=filter(lambda x:x%2==0,numbers)\n",
    "print(list(even_numbers))"
   ]
  },
  {
   "cell_type": "code",
   "execution_count": 37,
   "id": "91b016dd-46c1-4eab-8194-b079e22f668f",
   "metadata": {},
   "outputs": [
    {
     "name": "stdout",
     "output_type": "stream",
     "text": [
      "[0, 4, 16, 36, 64]\n"
     ]
    }
   ],
   "source": [
    "squares=[]\n",
    "for i in range(10):\n",
    "    if i %2==0:\n",
    "        squares.append(i**2)\n",
    "print(squares)"
   ]
  },
  {
   "cell_type": "code",
   "execution_count": 39,
   "id": "e474a35e-c299-4671-a0f1-f31eb7fa649e",
   "metadata": {},
   "outputs": [
    {
     "name": "stdout",
     "output_type": "stream",
     "text": [
      "[0, 4, 16, 36, 64]\n"
     ]
    }
   ],
   "source": [
    "squares=[i**2 for i in range(10) if i%2 == 0]\n",
    "print(squares)"
   ]
  }
 ],
 "metadata": {
  "kernelspec": {
   "display_name": "Python 3 (ipykernel)",
   "language": "python",
   "name": "python3"
  },
  "language_info": {
   "codemirror_mode": {
    "name": "ipython",
    "version": 3
   },
   "file_extension": ".py",
   "mimetype": "text/x-python",
   "name": "python",
   "nbconvert_exporter": "python",
   "pygments_lexer": "ipython3",
   "version": "3.12.5"
  }
 },
 "nbformat": 4,
 "nbformat_minor": 5
}
