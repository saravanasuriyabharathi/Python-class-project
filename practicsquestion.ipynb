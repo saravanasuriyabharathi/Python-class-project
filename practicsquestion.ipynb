{
 "cells": [
  {
   "cell_type": "code",
   "execution_count": 15,
   "id": "b9fb1f58-b3db-4290-92d5-74982d2b2e59",
   "metadata": {},
   "outputs": [],
   "source": [
    "def get_user_input(n):\n",
    "    user_inputs = []\n",
    "    for i in range(n):\n",
    "        while True:\n",
    "            user_input = input(f\"Enter input {i+1}: \")\n",
    "            if user_input.isdigit():\n",
    "                user_inputs.append(int(user_input))\n",
    "                break\n",
    "            else:\n",
    "                print(\"Invalid input. Please enter an integer.\")\n",
    "    return user_inputs"
   ]
  },
  {
   "cell_type": "code",
   "execution_count": 21,
   "id": "004e3900-9a40-4f3b-a5ce-bf7e59086899",
   "metadata": {},
   "outputs": [],
   "source": [
    "def compute_statistics(data):\n",
    "    average = sum(data) / len(data)\n",
    "    minimum = min(data)\n",
    "    maximum = max(data)\n",
    "    cumulative_sum = [sum(data[:i+1]) for i in range(len(data))]\n",
    "    return {\n",
    "        \"average\": average,\n",
    "        \"minimum\": minimum,\n",
    "        \"maximum\": maximum,\n",
    "        \"cumulative_sum\": cumulative_sum\n",
    "    }"
   ]
  },
  {
   "cell_type": "code",
   "execution_count": 24,
   "id": "e3fa3279-8bb9-48ab-8b8a-b42a95b4dcf2",
   "metadata": {},
   "outputs": [
    {
     "name": "stdin",
     "output_type": "stream",
     "text": [
      "Enter the number of inputs:  5\n",
      "Enter input 1:  1\n",
      "Enter input 2:  2\n",
      "Enter input 3:  3\n",
      "Enter input 4:  4\n",
      "Enter input 5:  5\n"
     ]
    },
    {
     "name": "stdout",
     "output_type": "stream",
     "text": [
      "Input Data: [1, 2, 3, 4, 5]\n",
      "Average: 3.0\n",
      "Minimum: 1\n",
      "Maximum: 5\n",
      "Cumulative Sum: [1, 3, 6, 10, 15]\n"
     ]
    }
   ],
   "source": [
    "def main():\n",
    "    n = int(input(\"Enter the number of inputs: \"))\n",
    "    user_data = get_user_input(n)\n",
    "    statistics = compute_statistics(user_data)\n",
    "    print(\"Input Data:\", user_data)\n",
    "    print(\"Average:\", statistics[\"average\"])\n",
    "    print(\"Minimum:\", statistics[\"minimum\"])\n",
    "    print(\"Maximum:\", statistics[\"maximum\"])\n",
    "    print(\"Cumulative Sum:\", statistics[\"cumulative_sum\"])\n",
    "\n",
    "if __name__ == \"__main__\":\n",
    "    main()"
   ]
  }
 ],
 "metadata": {
  "kernelspec": {
   "display_name": "Python 3 (ipykernel)",
   "language": "python",
   "name": "python3"
  },
  "language_info": {
   "codemirror_mode": {
    "name": "ipython",
    "version": 3
   },
   "file_extension": ".py",
   "mimetype": "text/x-python",
   "name": "python",
   "nbconvert_exporter": "python",
   "pygments_lexer": "ipython3",
   "version": "3.12.5"
  }
 },
 "nbformat": 4,
 "nbformat_minor": 5
}
