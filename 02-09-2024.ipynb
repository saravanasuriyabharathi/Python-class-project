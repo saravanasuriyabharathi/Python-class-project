{
 "cells": [
  {
   "cell_type": "markdown",
   "id": "cdde3d58-e537-472d-987d-a65d2b044773",
   "metadata": {},
   "source": [
    "## Function\n",
    "``` python\n",
    "    def functionName(inputArguments,Args):\n",
    "            function statements\n",
    "            function statements2\n",
    "            function statements3\n",
    "    \n",
    "            return(var1,var2)\n",
    "    functionName(a,b)\n",
    "main program\n",
    "```\n"
   ]
  },
  {
   "cell_type": "code",
   "execution_count": 16,
   "id": "f7dc64aa-5a15-4d3d-b407-97da810b9d18",
   "metadata": {},
   "outputs": [],
   "source": [
    "# WAF to add two values and return its result"
   ]
  },
  {
   "cell_type": "code",
   "execution_count": 15,
   "id": "22affcbd-79b2-4f11-a0ab-3fe6950da5e7",
   "metadata": {},
   "outputs": [
    {
     "name": "stdout",
     "output_type": "stream",
     "text": [
      "8\n"
     ]
    }
   ],
   "source": [
    "def add(a,b):\n",
    "    return a + b\n",
    "result =add(5,3)\n",
    "print(result)"
   ]
  },
  {
   "cell_type": "code",
   "execution_count": 17,
   "id": "968ea022-9541-4885-ae7f-f406510a6e3e",
   "metadata": {},
   "outputs": [
    {
     "name": "stdout",
     "output_type": "stream",
     "text": [
      "()\n",
      "result is 3 \n",
      "(1, 2)\n",
      "result is 5\n"
     ]
    }
   ],
   "source": [
    "var1 = 1\n",
    "var2 =2\n",
    "\n",
    "#defining function\n",
    "#*args\n",
    "#def myadd(a,b,c =0,d=0,e=0):\n",
    "def myadd(a,b, *args):\n",
    "    print(args)\n",
    "    res = a+b\n",
    "    for i in args:\n",
    "        res=res+a\n",
    "    return res\n",
    "\n",
    "#using function\n",
    "result= myadd(var1 , var2)\n",
    "print(f\"result is {result} \")\n",
    "\n",
    "result=myadd(var1, var2, 1, 2)\n",
    "print(f\"result is {result}\")"
   ]
  },
  {
   "cell_type": "code",
   "execution_count": 1,
   "id": "e4ee8b94-59e4-4ff2-a109-e89110a3c644",
   "metadata": {},
   "outputs": [
    {
     "name": "stdout",
     "output_type": "stream",
     "text": [
      "HI Arjun gupta How are you\n"
     ]
    }
   ],
   "source": [
    "def greet(name , message):\n",
    "    print(f\"HI {name} {message}\")\n",
    "\n",
    "name=\"Arjun gupta\"\n",
    "message =\"How are you\"\n",
    "greet(name , message)"
   ]
  },
  {
   "cell_type": "code",
   "execution_count": 3,
   "id": "ce69beec-2662-4a1b-bf66-c006fc197ebd",
   "metadata": {},
   "outputs": [
    {
     "name": "stdout",
     "output_type": "stream",
     "text": [
      "{'name': 'Arjun', 'message': 'How are you'}\n"
     ]
    }
   ],
   "source": [
    "def greet(**kwargs):\n",
    "    #print(f hi {name} {message})\n",
    "    print(kwargs)\n",
    "\n",
    "#name=\"Arjun\"\n",
    "#message=\"How are you\"\n",
    "greet(name=\"Arjun\", message=\"How are you\")"
   ]
  },
  {
   "cell_type": "code",
   "execution_count": 21,
   "id": "acd2c5a7-2faa-4fe9-97b9-b61619162204",
   "metadata": {},
   "outputs": [],
   "source": [
    "import test_file\n"
   ]
  },
  {
   "cell_type": "code",
   "execution_count": 22,
   "id": "12d02bc7-3a34-4665-b795-c6809f14b965",
   "metadata": {},
   "outputs": [
    {
     "ename": "AttributeError",
     "evalue": "module 'test_file' has no attribute 'PI'",
     "output_type": "error",
     "traceback": [
      "\u001b[1;31m---------------------------------------------------------------------------\u001b[0m",
      "\u001b[1;31mAttributeError\u001b[0m                            Traceback (most recent call last)",
      "Cell \u001b[1;32mIn[22], line 1\u001b[0m\n\u001b[1;32m----> 1\u001b[0m \u001b[43mtest_file\u001b[49m\u001b[38;5;241;43m.\u001b[39;49m\u001b[43mPI\u001b[49m\n",
      "\u001b[1;31mAttributeError\u001b[0m: module 'test_file' has no attribute 'PI'"
     ]
    }
   ],
   "source": [
    "test_file.PI"
   ]
  },
  {
   "cell_type": "code",
   "execution_count": 17,
   "id": "d66abf61-3669-49df-9ea8-c082af4632fb",
   "metadata": {},
   "outputs": [
    {
     "ename": "AttributeError",
     "evalue": "module 'test_file' has no attribute 'PI'",
     "output_type": "error",
     "traceback": [
      "\u001b[1;31m---------------------------------------------------------------------------\u001b[0m",
      "\u001b[1;31mAttributeError\u001b[0m                            Traceback (most recent call last)",
      "Cell \u001b[1;32mIn[17], line 2\u001b[0m\n\u001b[0;32m      1\u001b[0m \u001b[38;5;28;01mimport\u001b[39;00m \u001b[38;5;21;01mtest_file\u001b[39;00m \u001b[38;5;28;01mas\u001b[39;00m \u001b[38;5;21;01mt\u001b[39;00m\n\u001b[1;32m----> 2\u001b[0m \u001b[43mt\u001b[49m\u001b[38;5;241;43m.\u001b[39;49m\u001b[43mPI\u001b[49m\n",
      "\u001b[1;31mAttributeError\u001b[0m: module 'test_file' has no attribute 'PI'"
     ]
    }
   ],
   "source": [
    "import test_file as t\n",
    "t.PI"
   ]
  },
  {
   "cell_type": "code",
   "execution_count": 18,
   "id": "6ee1a258-e089-4114-9cfb-28d2038f19ff",
   "metadata": {},
   "outputs": [
    {
     "ename": "ImportError",
     "evalue": "cannot import name 'PI' from 'test_file' (D:\\Git Demo\\Python_UPES\\test_file.py)",
     "output_type": "error",
     "traceback": [
      "\u001b[1;31m---------------------------------------------------------------------------\u001b[0m",
      "\u001b[1;31mImportError\u001b[0m                               Traceback (most recent call last)",
      "Cell \u001b[1;32mIn[18], line 1\u001b[0m\n\u001b[1;32m----> 1\u001b[0m \u001b[38;5;28;01mfrom\u001b[39;00m \u001b[38;5;21;01mtest_file\u001b[39;00m \u001b[38;5;28;01mimport\u001b[39;00m PI\n\u001b[0;32m      2\u001b[0m PI\n",
      "\u001b[1;31mImportError\u001b[0m: cannot import name 'PI' from 'test_file' (D:\\Git Demo\\Python_UPES\\test_file.py)"
     ]
    }
   ],
   "source": [
    "from test_file import PI\n",
    "PI"
   ]
  },
  {
   "cell_type": "code",
   "execution_count": 19,
   "id": "18988aa7-07d8-4bca-a9ed-8783aa6ea907",
   "metadata": {},
   "outputs": [
    {
     "name": "stdout",
     "output_type": "stream",
     "text": [
      "the value of 1 variable is \t 1 \t its is id <built-in function id> \t\n",
      "\n",
      "\n",
      "\n"
     ]
    }
   ],
   "source": [
    "from test_file import *\n",
    "showDetails(1)"
   ]
  },
  {
   "cell_type": "markdown",
   "id": "0a013796-324f-42a9-a855-7eb804e171d5",
   "metadata": {},
   "source": [
    "### write a function to add two variavle and return its result"
   ]
  },
  {
   "cell_type": "code",
   "execution_count": 22,
   "id": "c5e3142a-2dd6-47f0-b660-02ec0ca174af",
   "metadata": {},
   "outputs": [
    {
     "ename": "NameError",
     "evalue": "name 'var1' is not defined",
     "output_type": "error",
     "traceback": [
      "\u001b[1;31m---------------------------------------------------------------------------\u001b[0m",
      "\u001b[1;31mNameError\u001b[0m                                 Traceback (most recent call last)",
      "Cell \u001b[1;32mIn[22], line 8\u001b[0m\n\u001b[0;32m      5\u001b[0m     res \u001b[38;5;241m=\u001b[39ma\u001b[38;5;241m+\u001b[39mb\n\u001b[0;32m      6\u001b[0m     \u001b[38;5;28;01mreturn\u001b[39;00m res\n\u001b[1;32m----> 8\u001b[0m result\u001b[38;5;241m=\u001b[39mmyadd(\u001b[43mvar1\u001b[49m,var2)\n\u001b[0;32m      9\u001b[0m \u001b[38;5;28mprint\u001b[39m(\u001b[38;5;124mf\u001b[39m\u001b[38;5;124m\"\u001b[39m\u001b[38;5;124mresukt is\u001b[39m\u001b[38;5;132;01m{\u001b[39;00mresult\u001b[38;5;132;01m}\u001b[39;00m\u001b[38;5;124m\"\u001b[39m)\n",
      "\u001b[1;31mNameError\u001b[0m: name 'var1' is not defined"
     ]
    }
   ],
   "source": [
    "var =1\n",
    "var =2\n",
    "\n",
    "def myadd(a,b):\n",
    "    res =a+b\n",
    "    return res\n",
    "\n",
    "result=myadd(var1,var2)\n",
    "print(f\"resukt is{result}\")"
   ]
  },
  {
   "cell_type": "code",
   "execution_count": null,
   "id": "fa11ba40-7dfa-4783-90e7-6c807628922b",
   "metadata": {},
   "outputs": [],
   "source": []
  }
 ],
 "metadata": {
  "kernelspec": {
   "display_name": "Python 3 (ipykernel)",
   "language": "python",
   "name": "python3"
  },
  "language_info": {
   "codemirror_mode": {
    "name": "ipython",
    "version": 3
   },
   "file_extension": ".py",
   "mimetype": "text/x-python",
   "name": "python",
   "nbconvert_exporter": "python",
   "pygments_lexer": "ipython3",
   "version": "3.12.5"
  }
 },
 "nbformat": 4,
 "nbformat_minor": 5
}
