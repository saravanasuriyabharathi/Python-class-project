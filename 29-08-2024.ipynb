{
 "cells": [
  {
   "cell_type": "code",
   "execution_count": 1,
   "id": "07e63a82-1081-4472-8b71-4242a2332c4d",
   "metadata": {},
   "outputs": [
    {
     "name": "stdout",
     "output_type": "stream",
     "text": [
      "1\n",
      "loop iteration complete\n",
      "2\n",
      "loop iteration complete\n",
      "3\n",
      "loop iteration complete\n",
      "4\n",
      "loop iteration complete\n",
      "5\n",
      "6\n",
      "7\n",
      "8\n",
      "9\n",
      "10\n",
      "11\n",
      "12\n",
      "13\n",
      "14\n",
      "15\n",
      "16\n",
      "17\n",
      "18\n",
      "19\n",
      "complete\n"
     ]
    }
   ],
   "source": [
    "a=1\n",
    "b=20 #large data\n",
    "\n",
    "count =0\n",
    "while a<b:\n",
    "\n",
    "    count +=1\n",
    "    print(a)\n",
    "\n",
    "    a +=1\n",
    "\n",
    "   # if(a>5):\n",
    "        # break\n",
    "\n",
    "    if(a>5):\n",
    "        continue\n",
    "        \n",
    "    print(\"loop iteration complete\")\n",
    "\n",
    "    if count >500:\n",
    "        break\n",
    "\n",
    "print(\"complete\")"
   ]
  },
  {
   "cell_type": "code",
   "execution_count": 5,
   "id": "8169e48d-6316-4a81-ae6f-a6b9ecca60dc",
   "metadata": {},
   "outputs": [
    {
     "name": "stdout",
     "output_type": "stream",
     "text": [
      "False\n",
      "True\n"
     ]
    }
   ],
   "source": [
    "#membership function\n",
    "string1 =\"Hello Python\"\n",
    "string2=\"hello\"\n",
    "\n",
    "#include\n",
    "print(string2 in string1)\n",
    "\n",
    "print(string2.upper() in string1.upper()) #changing the letter in the upper case"
   ]
  },
  {
   "cell_type": "code",
   "execution_count": 6,
   "id": "806527af-a37f-4481-865b-57b760d62b2a",
   "metadata": {},
   "outputs": [
    {
     "data": {
      "text/plain": [
       "[1, 2, 3, 45, 6]"
      ]
     },
     "execution_count": 6,
     "metadata": {},
     "output_type": "execute_result"
    }
   ],
   "source": [
    "list1=[1,2,3,45,6]\n",
    "list1"
   ]
  },
  {
   "cell_type": "code",
   "execution_count": 12,
   "id": "53bb4e42-ef20-426d-89fe-7dd2cd922d7b",
   "metadata": {},
   "outputs": [
    {
     "name": "stdout",
     "output_type": "stream",
     "text": [
      "1\n",
      "2\n",
      "3\n",
      "45\n",
      "6\n"
     ]
    }
   ],
   "source": [
    "for i in list1:\n",
    "    print(i)"
   ]
  },
  {
   "cell_type": "code",
   "execution_count": 18,
   "id": "c04f1bbd-2300-483e-b454-6f49d183d043",
   "metadata": {},
   "outputs": [
    {
     "data": {
      "text/plain": [
       "5"
      ]
     },
     "execution_count": 18,
     "metadata": {},
     "output_type": "execute_result"
    }
   ],
   "source": [
    "len(list1)\n",
    "\n",
    "\\t--> make a tab\n",
    "\\n-->make a space"
   ]
  },
  {
   "cell_type": "code",
   "execution_count": 27,
   "id": "171d665a-d469-4da9-b39c-2a9b99d74fdb",
   "metadata": {},
   "outputs": [
    {
     "name": "stdout",
     "output_type": "stream",
     "text": [
      " at index 0 value is -->1\n",
      " at index 1 value is -->2\n",
      " at index 2 value is -->3\n",
      " at index 3 value is -->45\n",
      " at index 4 value is -->6\n"
     ]
    }
   ],
   "source": [
    "for i in range(0,len(list1)):\n",
    "   # print(i,\" \",list1[i])\n",
    "    print(f\" at index {i} value is -->{list1[i]}\")"
   ]
  },
  {
   "cell_type": "code",
   "execution_count": 34,
   "id": "98149d53-eb65-4571-b7ac-546828c9f19f",
   "metadata": {},
   "outputs": [
    {
     "name": "stdout",
     "output_type": "stream",
     "text": [
      "[[10, 20], [30, 40]]\n"
     ]
    },
    {
     "data": {
      "text/plain": [
       "([[10, 20], [30, 40]], 2)"
      ]
     },
     "execution_count": 34,
     "metadata": {},
     "output_type": "execute_result"
    }
   ],
   "source": [
    "# 10 20\n",
    "# 30 40\n",
    "\n",
    "row1 = [10, 20]\n",
    "row2 =[30 , 40]\n",
    "\n",
    "matrix =[row1 , row2]\n",
    "print(matrix)\n",
    "matrix ,(len(matrix))\n",
    "#print(len(matrix))"
   ]
  },
  {
   "cell_type": "code",
   "execution_count": 33,
   "id": "19ef5b15-6e39-4980-8253-832e84660994",
   "metadata": {},
   "outputs": [
    {
     "data": {
      "text/plain": [
       "20"
      ]
     },
     "execution_count": 33,
     "metadata": {},
     "output_type": "execute_result"
    }
   ],
   "source": [
    "matrix[0][1]\n"
   ]
  },
  {
   "cell_type": "code",
   "execution_count": 35,
   "id": "784bfab6-f635-444f-828e-a15c54029386",
   "metadata": {},
   "outputs": [
    {
     "name": "stdout",
     "output_type": "stream",
     "text": [
      "<class 'list'>\n",
      "2878312208512\n"
     ]
    }
   ],
   "source": [
    "print(type(matrix))\n",
    "print(id(matrix))"
   ]
  },
  {
   "cell_type": "code",
   "execution_count": 36,
   "id": "af9ad962-3194-4b60-a1b4-8dab1ae487b0",
   "metadata": {},
   "outputs": [
    {
     "name": "stdout",
     "output_type": "stream",
     "text": [
      "2878312017024\n",
      "2878318521664\n"
     ]
    }
   ],
   "source": [
    "print(id(row1))\n",
    "print(id(row2))"
   ]
  },
  {
   "cell_type": "code",
   "execution_count": null,
   "id": "6e577695-d6d4-4aa0-aced-bc9014d0c24b",
   "metadata": {},
   "outputs": [],
   "source": []
  },
  {
   "cell_type": "code",
   "execution_count": 11,
   "id": "c65b9807-3144-4ce3-b61f-7ddeaad8c854",
   "metadata": {},
   "outputs": [],
   "source": [
    "# print  value and id\n",
    "def showDetails(val):\n",
    "    \n",
    "    print(f\"value is {val}  id is {id(val)}\")"
   ]
  },
  {
   "cell_type": "code",
   "execution_count": 12,
   "id": "60edd566-5464-4ff0-9288-97bea8c7b209",
   "metadata": {},
   "outputs": [
    {
     "name": "stdout",
     "output_type": "stream",
     "text": [
      "value is [12334, 2, 3, 45, 6]  id is 2496884566912\n"
     ]
    }
   ],
   "source": [
    "list1 [0]=12334\n",
    "showDetails(list1)"
   ]
  },
  {
   "cell_type": "code",
   "execution_count": null,
   "id": "cf3afc0c-2d86-41e8-bff9-05ae97f7b34a",
   "metadata": {},
   "outputs": [],
   "source": [
    "CREATE A 3X3 MATRIX WITH A VARIABLE NAME a AND STORED IN VARIABLE NAME AND MAKE A COPY OF THIS VARIABLE\n",
    "IN b THEN MODIFY VALUES IN b AND THEN PRINT ITS value AND id"
   ]
  },
  {
   "cell_type": "code",
   "execution_count": 15,
   "id": "8722fd59-a725-40e4-a34e-10c9f1d34fa0",
   "metadata": {},
   "outputs": [
    {
     "name": "stdout",
     "output_type": "stream",
     "text": [
      "[[10, 20, 30], [40, 50, 60], [70, 80, 90]]\n",
      "[[10, 20, 30], [40, 50, 60], [70, 80, 90]]\n",
      "2496885112512   2496885112512\n",
      "[[10, 123, 30], [40, 50, 60], [25, 80, 90]]\n",
      "[[10, 123, 30], [40, 50, 60], [25, 80, 90]]\n",
      "2496885112512   2496885112512\n"
     ]
    }
   ],
   "source": [
    "# 10 20 30\n",
    "# 40 50 60\n",
    "# 70 80 90\n",
    "row1=[10,20,30]\n",
    "row2=[40,50,60]\n",
    "row3=[70,80,90]\n",
    "a=[row1,row2,row3]\n",
    "print(a)\n",
    "b=a\n",
    "print(b)\n",
    "print(id(a),\" \",id(b))\n",
    "\n",
    "b[0][1]=123\n",
    "b[2][0]=25\n",
    "print(a)\n",
    "print(b)\n",
    "print(id(a),\" \",id(b))\n"
   ]
  },
  {
   "cell_type": "code",
   "execution_count": 20,
   "id": "632282ad-1d11-4b45-a7ec-3216c9a8b7a1",
   "metadata": {},
   "outputs": [
    {
     "ename": "TypeError",
     "evalue": "showDetails() takes 1 positional argument but 2 were given",
     "output_type": "error",
     "traceback": [
      "\u001b[1;31m---------------------------------------------------------------------------\u001b[0m",
      "\u001b[1;31mTypeError\u001b[0m                                 Traceback (most recent call last)",
      "Cell \u001b[1;32mIn[20], line 3\u001b[0m\n\u001b[0;32m      1\u001b[0m listA\u001b[38;5;241m=\u001b[39m[\u001b[38;5;241m2\u001b[39m,\u001b[38;5;241m3\u001b[39m,\u001b[38;5;241m4\u001b[39m, [\u001b[38;5;241m1\u001b[39m,\u001b[38;5;241m7\u001b[39m]]\n\u001b[0;32m      2\u001b[0m listB\u001b[38;5;241m=\u001b[39m listA\n\u001b[1;32m----> 3\u001b[0m \u001b[43mshowDetails\u001b[49m\u001b[43m(\u001b[49m\u001b[43mlistA\u001b[49m\u001b[43m,\u001b[49m\u001b[43mlistB\u001b[49m\u001b[43m)\u001b[49m\n\u001b[0;32m      4\u001b[0m listB[\u001b[38;5;241m1\u001b[39m]\u001b[38;5;241m=\u001b[39m\u001b[38;5;241m44\u001b[39m\n\u001b[0;32m      6\u001b[0m showDetail(listA,listB)\n",
      "\u001b[1;31mTypeError\u001b[0m: showDetails() takes 1 positional argument but 2 were given"
     ]
    }
   ],
   "source": [
    "listA=[2,3,4, [1,7]]\n",
    "listB= listA\n",
    "showDetails(listA,listB)\n",
    "listB[1]=44\n",
    "\n",
    "showDetail(listA,listB)"
   ]
  },
  {
   "cell_type": "code",
   "execution_count": null,
   "id": "a72fd5b3-9afd-4df9-9c44-2e9c63cc9750",
   "metadata": {},
   "outputs": [],
   "source": []
  },
  {
   "cell_type": "code",
   "execution_count": null,
   "id": "124a91ad-e64e-49ec-b537-d4a56de127f7",
   "metadata": {},
   "outputs": [],
   "source": []
  },
  {
   "cell_type": "code",
   "execution_count": null,
   "id": "36540f57-1b56-4fcb-8716-4c69e4d07f16",
   "metadata": {},
   "outputs": [],
   "source": [
    "#shallow copy\n",
    "listA=[2,3,4,[1,7]]\n",
    "listB=list(listA)\n",
    "show_Details(listA,listB)\n",
    "listB[1]=44\n",
    "listB[3][0]=232\n",
    "\n",
    "show_Detail(listA,listB)"
   ]
  },
  {
   "cell_type": "code",
   "execution_count": null,
   "id": "0e0fc459-83ee-4bd1-99a0-ce8415a00af1",
   "metadata": {},
   "outputs": [],
   "source": [
    "#deep copy\n",
    "import copy\n",
    "listA=[2,3,4,[1,7]]\n",
    "listB=copy.deepcopy(listA)\n",
    "show_Details(listA,listB)\n",
    "listB[1]=44\n",
    "listB[3][0]=232\n",
    "\n",
    "show_Detail(listA,listB)"
   ]
  },
  {
   "cell_type": "code",
   "execution_count": null,
   "id": "5111535c-111d-4e9b-bcbe-abef5c2b27a0",
   "metadata": {},
   "outputs": [],
   "source": [
    "![label](./filename)"
   ]
  },
  {
   "cell_type": "code",
   "execution_count": null,
   "id": "cb8e4467-4450-4821-a3b7-60edca1d7431",
   "metadata": {},
   "outputs": [],
   "source": [
    "write a function that calculate the force when mass and accerlataion are given"
   ]
  },
  {
   "cell_type": "code",
   "execution_count": 70,
   "id": "338737cb-eb75-49d0-b8db-154d73d08bcd",
   "metadata": {},
   "outputs": [
    {
     "name": "stdout",
     "output_type": "stream",
     "text": [
      "100\n"
     ]
    }
   ],
   "source": [
    "def calculate_force(mass,acceralation):\n",
    "    \"\"\"\n",
    "        Its take two mass and acceralation variables and return calculate force\n",
    "        f=calculate_force(10,10)\n",
    "    \"\"\"\n",
    "\n",
    "    \n",
    "    force=mass * acceralation\n",
    "    print(force)\n",
    "    return mass * acceralation\n",
    "    \n",
    "\n",
    "F=calculate_force(10,10)"
   ]
  },
  {
   "cell_type": "code",
   "execution_count": 67,
   "id": "e8bc627e-5dec-4e73-a244-35f81dafe71f",
   "metadata": {},
   "outputs": [
    {
     "name": "stdout",
     "output_type": "stream",
     "text": [
      "Help on function calculate_force in module __main__:\n",
      "\n",
      "calculate_force(mass, acceralation)\n",
      "    Its take two mass and acceralation variables and return calculate force\n",
      "    f=calculate_force(10,10)\n",
      "\n"
     ]
    }
   ],
   "source": [
    "help(calculate_force)"
   ]
  },
  {
   "cell_type": "code",
   "execution_count": 5,
   "id": "b2c40002-0b7f-457f-9577-53d7b41da6bd",
   "metadata": {},
   "outputs": [
    {
     "name": "stdout",
     "output_type": "stream",
     "text": [
      "apple\n"
     ]
    }
   ],
   "source": [
    "#creqting a list of fruits\n",
    "fruits=[\"apple\",\"banana\",\"cherry\"]#accessing element by index\n",
    "\n",
    "print(fruits[0])\n"
   ]
  },
  {
   "cell_type": "code",
   "execution_count": 6,
   "id": "baf0c9be-3143-4f11-ba2e-fc8528382c8a",
   "metadata": {},
   "outputs": [
    {
     "data": {
      "text/plain": [
       "[1, 2, 3, 4, 5, 6, [9, 8]]"
      ]
     },
     "execution_count": 6,
     "metadata": {},
     "output_type": "execute_result"
    }
   ],
   "source": [
    "a=[1,2,3,4,5,6,[9,8]]\n",
    "a"
   ]
  },
  {
   "cell_type": "code",
   "execution_count": 7,
   "id": "be90132e-c7be-4878-92a3-ce2766b2eb52",
   "metadata": {},
   "outputs": [
    {
     "data": {
      "text/plain": [
       "7"
      ]
     },
     "execution_count": 7,
     "metadata": {},
     "output_type": "execute_result"
    }
   ],
   "source": [
    "len(a)"
   ]
  },
  {
   "cell_type": "code",
   "execution_count": 8,
   "id": "f8fb7f51-2631-4592-bfa9-0e168909d521",
   "metadata": {},
   "outputs": [
    {
     "data": {
      "text/plain": [
       "[9, 8]"
      ]
     },
     "execution_count": 8,
     "metadata": {},
     "output_type": "execute_result"
    }
   ],
   "source": [
    "a[-1]"
   ]
  },
  {
   "cell_type": "code",
   "execution_count": 9,
   "id": "25eca61a-cabe-43d7-a0cf-1a77a48344ea",
   "metadata": {},
   "outputs": [],
   "source": [
    "a.append(\"new value\")"
   ]
  },
  {
   "cell_type": "code",
   "execution_count": 15,
   "id": "5fbad365-212a-4e11-9814-3e98c4d80f00",
   "metadata": {},
   "outputs": [
    {
     "data": {
      "text/plain": [
       "[1, 2, 3, 4, 5, 6, [9, 8], 'new value']"
      ]
     },
     "execution_count": 15,
     "metadata": {},
     "output_type": "execute_result"
    }
   ],
   "source": [
    "a"
   ]
  },
  {
   "cell_type": "code",
   "execution_count": 26,
   "id": "efec79a1-0840-40a7-9bdb-8c61c1618e0d",
   "metadata": {},
   "outputs": [
    {
     "data": {
      "text/plain": [
       "[1, 2, 4, 5, 6, [9, 8], 'new value']"
      ]
     },
     "execution_count": 26,
     "metadata": {},
     "output_type": "execute_result"
    }
   ],
   "source": [
    "a\n"
   ]
  },
  {
   "cell_type": "code",
   "execution_count": 21,
   "id": "587e4fc0-a1b6-43c8-bd88-368071700a1f",
   "metadata": {},
   "outputs": [
    {
     "name": "stdout",
     "output_type": "stream",
     "text": [
      "Help on class list in module builtins:\n",
      "\n",
      "class list(object)\n",
      " |  list(iterable=(), /)\n",
      " |\n",
      " |  Built-in mutable sequence.\n",
      " |\n",
      " |  If no argument is given, the constructor creates a new empty list.\n",
      " |  The argument must be an iterable if specified.\n",
      " |\n",
      " |  Methods defined here:\n",
      " |\n",
      " |  __add__(self, value, /)\n",
      " |      Return self+value.\n",
      " |\n",
      " |  __contains__(self, key, /)\n",
      " |      Return bool(key in self).\n",
      " |\n",
      " |  __delitem__(self, key, /)\n",
      " |      Delete self[key].\n",
      " |\n",
      " |  __eq__(self, value, /)\n",
      " |      Return self==value.\n",
      " |\n",
      " |  __ge__(self, value, /)\n",
      " |      Return self>=value.\n",
      " |\n",
      " |  __getattribute__(self, name, /)\n",
      " |      Return getattr(self, name).\n",
      " |\n",
      " |  __getitem__(self, index, /)\n",
      " |      Return self[index].\n",
      " |\n",
      " |  __gt__(self, value, /)\n",
      " |      Return self>value.\n",
      " |\n",
      " |  __iadd__(self, value, /)\n",
      " |      Implement self+=value.\n",
      " |\n",
      " |  __imul__(self, value, /)\n",
      " |      Implement self*=value.\n",
      " |\n",
      " |  __init__(self, /, *args, **kwargs)\n",
      " |      Initialize self.  See help(type(self)) for accurate signature.\n",
      " |\n",
      " |  __iter__(self, /)\n",
      " |      Implement iter(self).\n",
      " |\n",
      " |  __le__(self, value, /)\n",
      " |      Return self<=value.\n",
      " |\n",
      " |  __len__(self, /)\n",
      " |      Return len(self).\n",
      " |\n",
      " |  __lt__(self, value, /)\n",
      " |      Return self<value.\n",
      " |\n",
      " |  __mul__(self, value, /)\n",
      " |      Return self*value.\n",
      " |\n",
      " |  __ne__(self, value, /)\n",
      " |      Return self!=value.\n",
      " |\n",
      " |  __repr__(self, /)\n",
      " |      Return repr(self).\n",
      " |\n",
      " |  __reversed__(self, /)\n",
      " |      Return a reverse iterator over the list.\n",
      " |\n",
      " |  __rmul__(self, value, /)\n",
      " |      Return value*self.\n",
      " |\n",
      " |  __setitem__(self, key, value, /)\n",
      " |      Set self[key] to value.\n",
      " |\n",
      " |  __sizeof__(self, /)\n",
      " |      Return the size of the list in memory, in bytes.\n",
      " |\n",
      " |  append(self, object, /)\n",
      " |      Append object to the end of the list.\n",
      " |\n",
      " |  clear(self, /)\n",
      " |      Remove all items from list.\n",
      " |\n",
      " |  copy(self, /)\n",
      " |      Return a shallow copy of the list.\n",
      " |\n",
      " |  count(self, value, /)\n",
      " |      Return number of occurrences of value.\n",
      " |\n",
      " |  extend(self, iterable, /)\n",
      " |      Extend list by appending elements from the iterable.\n",
      " |\n",
      " |  index(self, value, start=0, stop=9223372036854775807, /)\n",
      " |      Return first index of value.\n",
      " |\n",
      " |      Raises ValueError if the value is not present.\n",
      " |\n",
      " |  insert(self, index, object, /)\n",
      " |      Insert object before index.\n",
      " |\n",
      " |  pop(self, index=-1, /)\n",
      " |      Remove and return item at index (default last).\n",
      " |\n",
      " |      Raises IndexError if list is empty or index is out of range.\n",
      " |\n",
      " |  remove(self, value, /)\n",
      " |      Remove first occurrence of value.\n",
      " |\n",
      " |      Raises ValueError if the value is not present.\n",
      " |\n",
      " |  reverse(self, /)\n",
      " |      Reverse *IN PLACE*.\n",
      " |\n",
      " |  sort(self, /, *, key=None, reverse=False)\n",
      " |      Sort the list in ascending order and return None.\n",
      " |\n",
      " |      The sort is in-place (i.e. the list itself is modified) and stable (i.e. the\n",
      " |      order of two equal elements is maintained).\n",
      " |\n",
      " |      If a key function is given, apply it once to each list item and sort them,\n",
      " |      ascending or descending, according to their function values.\n",
      " |\n",
      " |      The reverse flag can be set to sort in descending order.\n",
      " |\n",
      " |  ----------------------------------------------------------------------\n",
      " |  Class methods defined here:\n",
      " |\n",
      " |  __class_getitem__(...)\n",
      " |      See PEP 585\n",
      " |\n",
      " |  ----------------------------------------------------------------------\n",
      " |  Static methods defined here:\n",
      " |\n",
      " |  __new__(*args, **kwargs)\n",
      " |      Create and return a new object.  See help(type) for accurate signature.\n",
      " |\n",
      " |  ----------------------------------------------------------------------\n",
      " |  Data and other attributes defined here:\n",
      " |\n",
      " |  __hash__ = None\n",
      "\n"
     ]
    }
   ],
   "source": [
    "help(list)"
   ]
  },
  {
   "cell_type": "code",
   "execution_count": 27,
   "id": "1e479979-12ac-491d-b67e-eff9369ed0d4",
   "metadata": {},
   "outputs": [
    {
     "data": {
      "text/plain": [
       "(1, 2, 3, 4, 5, 6)"
      ]
     },
     "execution_count": 27,
     "metadata": {},
     "output_type": "execute_result"
    }
   ],
   "source": [
    "immutable_list=(1,2,3,4,5,6)\n",
    "immutable_list"
   ]
  },
  {
   "cell_type": "code",
   "execution_count": 28,
   "id": "0803b296-5907-4e50-82b3-d4aa2126863f",
   "metadata": {},
   "outputs": [
    {
     "data": {
      "text/plain": [
       "1"
      ]
     },
     "execution_count": 28,
     "metadata": {},
     "output_type": "execute_result"
    }
   ],
   "source": [
    "immutable_list[0]"
   ]
  },
  {
   "cell_type": "code",
   "execution_count": 29,
   "id": "e049546c-04a2-4230-82f5-52ec02791920",
   "metadata": {},
   "outputs": [
    {
     "name": "stdout",
     "output_type": "stream",
     "text": [
      "Help on tuple object:\n",
      "\n",
      "class tuple(object)\n",
      " |  tuple(iterable=(), /)\n",
      " |\n",
      " |  Built-in immutable sequence.\n",
      " |\n",
      " |  If no argument is given, the constructor returns an empty tuple.\n",
      " |  If iterable is specified the tuple is initialized from iterable's items.\n",
      " |\n",
      " |  If the argument is a tuple, the return value is the same object.\n",
      " |\n",
      " |  Built-in subclasses:\n",
      " |      asyncgen_hooks\n",
      " |      UnraisableHookArgs\n",
      " |\n",
      " |  Methods defined here:\n",
      " |\n",
      " |  __add__(self, value, /)\n",
      " |      Return self+value.\n",
      " |\n",
      " |  __contains__(self, key, /)\n",
      " |      Return bool(key in self).\n",
      " |\n",
      " |  __eq__(self, value, /)\n",
      " |      Return self==value.\n",
      " |\n",
      " |  __ge__(self, value, /)\n",
      " |      Return self>=value.\n",
      " |\n",
      " |  __getattribute__(self, name, /)\n",
      " |      Return getattr(self, name).\n",
      " |\n",
      " |  __getitem__(self, key, /)\n",
      " |      Return self[key].\n",
      " |\n",
      " |  __getnewargs__(self, /)\n",
      " |\n",
      " |  __gt__(self, value, /)\n",
      " |      Return self>value.\n",
      " |\n",
      " |  __hash__(self, /)\n",
      " |      Return hash(self).\n",
      " |\n",
      " |  __iter__(self, /)\n",
      " |      Implement iter(self).\n",
      " |\n",
      " |  __le__(self, value, /)\n",
      " |      Return self<=value.\n",
      " |\n",
      " |  __len__(self, /)\n",
      " |      Return len(self).\n",
      " |\n",
      " |  __lt__(self, value, /)\n",
      " |      Return self<value.\n",
      " |\n",
      " |  __mul__(self, value, /)\n",
      " |      Return self*value.\n",
      " |\n",
      " |  __ne__(self, value, /)\n",
      " |      Return self!=value.\n",
      " |\n",
      " |  __repr__(self, /)\n",
      " |      Return repr(self).\n",
      " |\n",
      " |  __rmul__(self, value, /)\n",
      " |      Return value*self.\n",
      " |\n",
      " |  count(self, value, /)\n",
      " |      Return number of occurrences of value.\n",
      " |\n",
      " |  index(self, value, start=0, stop=9223372036854775807, /)\n",
      " |      Return first index of value.\n",
      " |\n",
      " |      Raises ValueError if the value is not present.\n",
      " |\n",
      " |  ----------------------------------------------------------------------\n",
      " |  Class methods defined here:\n",
      " |\n",
      " |  __class_getitem__(...)\n",
      " |      See PEP 585\n",
      " |\n",
      " |  ----------------------------------------------------------------------\n",
      " |  Static methods defined here:\n",
      " |\n",
      " |  __new__(*args, **kwargs)\n",
      " |      Create and return a new object.  See help(type) for accurate signature.\n",
      "\n"
     ]
    }
   ],
   "source": [
    "help(immutable_list)"
   ]
  },
  {
   "cell_type": "code",
   "execution_count": 30,
   "id": "b37b727e-e178-4005-b540-226a83d2d819",
   "metadata": {},
   "outputs": [
    {
     "data": {
      "text/plain": [
       "{1, 2, 3, 4, 5}"
      ]
     },
     "execution_count": 30,
     "metadata": {},
     "output_type": "execute_result"
    }
   ],
   "source": [
    "a={1,2,3,4,5}\n",
    "a"
   ]
  },
  {
   "cell_type": "code",
   "execution_count": 39,
   "id": "a92d1253-a0d3-4394-bc83-bde413d37477",
   "metadata": {},
   "outputs": [
    {
     "name": "stdout",
     "output_type": "stream",
     "text": [
      "dictB---> {'Key1': '10', 'Key2': 20}\n",
      "dictC--> {'Key1': [10, 20], 'Key2': [3, 4]}\n"
     ]
    }
   ],
   "source": [
    "#dictonary Key-Value pair\n",
    "\n",
    "dictA={\"key\":\"Value\"}\n",
    "dictB={ \"Key1\":\"10\",\"Key2\":20}\n",
    "print(\"dictB--->\",dictB)\n",
    "\n",
    "\n",
    "dictC ={\"Key1\":[10,20],\n",
    "         \"Key2\":[3,4]}\n",
    "print(\"dictC-->\",dictC)"
   ]
  },
  {
   "cell_type": "code",
   "execution_count": 43,
   "id": "fffb8afd-ab89-4b62-9fd3-c8c722519926",
   "metadata": {},
   "outputs": [
    {
     "data": {
      "text/plain": [
       "{'name': 'John', 'age': 30, 'city': 'New York'}"
      ]
     },
     "execution_count": 43,
     "metadata": {},
     "output_type": "execute_result"
    }
   ],
   "source": [
    "person={\n",
    "    \"name\":\"John\",\n",
    "    \"age\": 30,\n",
    "    \"city\":\"New York\"\n",
    "\n",
    "    }\n",
    "person"
   ]
  },
  {
   "cell_type": "code",
   "execution_count": 46,
   "id": "65c1e499-a735-4df0-8159-7517a4c49e33",
   "metadata": {},
   "outputs": [
    {
     "name": "stdout",
     "output_type": "stream",
     "text": [
      "key is name and value is John\n",
      "key is age and value is 30\n",
      "key is city and value is New York\n"
     ]
    }
   ],
   "source": [
    "for key , val in person.items():\n",
    "    print(f\"key is {key} and value is {val}\")"
   ]
  },
  {
   "cell_type": "code",
   "execution_count": 47,
   "id": "06680f57-7a18-4ede-b1f9-4634a213ce95",
   "metadata": {},
   "outputs": [
    {
     "name": "stdout",
     "output_type": "stream",
     "text": [
      "Help on class dict in module builtins:\n",
      "\n",
      "class dict(object)\n",
      " |  dict() -> new empty dictionary\n",
      " |  dict(mapping) -> new dictionary initialized from a mapping object's\n",
      " |      (key, value) pairs\n",
      " |  dict(iterable) -> new dictionary initialized as if via:\n",
      " |      d = {}\n",
      " |      for k, v in iterable:\n",
      " |          d[k] = v\n",
      " |  dict(**kwargs) -> new dictionary initialized with the name=value pairs\n",
      " |      in the keyword argument list.  For example:  dict(one=1, two=2)\n",
      " |\n",
      " |  Built-in subclasses:\n",
      " |      StgDict\n",
      " |\n",
      " |  Methods defined here:\n",
      " |\n",
      " |  __contains__(self, key, /)\n",
      " |      True if the dictionary has the specified key, else False.\n",
      " |\n",
      " |  __delitem__(self, key, /)\n",
      " |      Delete self[key].\n",
      " |\n",
      " |  __eq__(self, value, /)\n",
      " |      Return self==value.\n",
      " |\n",
      " |  __ge__(self, value, /)\n",
      " |      Return self>=value.\n",
      " |\n",
      " |  __getattribute__(self, name, /)\n",
      " |      Return getattr(self, name).\n",
      " |\n",
      " |  __getitem__(self, key, /)\n",
      " |      Return self[key].\n",
      " |\n",
      " |  __gt__(self, value, /)\n",
      " |      Return self>value.\n",
      " |\n",
      " |  __init__(self, /, *args, **kwargs)\n",
      " |      Initialize self.  See help(type(self)) for accurate signature.\n",
      " |\n",
      " |  __ior__(self, value, /)\n",
      " |      Return self|=value.\n",
      " |\n",
      " |  __iter__(self, /)\n",
      " |      Implement iter(self).\n",
      " |\n",
      " |  __le__(self, value, /)\n",
      " |      Return self<=value.\n",
      " |\n",
      " |  __len__(self, /)\n",
      " |      Return len(self).\n",
      " |\n",
      " |  __lt__(self, value, /)\n",
      " |      Return self<value.\n",
      " |\n",
      " |  __ne__(self, value, /)\n",
      " |      Return self!=value.\n",
      " |\n",
      " |  __or__(self, value, /)\n",
      " |      Return self|value.\n",
      " |\n",
      " |  __repr__(self, /)\n",
      " |      Return repr(self).\n",
      " |\n",
      " |  __reversed__(self, /)\n",
      " |      Return a reverse iterator over the dict keys.\n",
      " |\n",
      " |  __ror__(self, value, /)\n",
      " |      Return value|self.\n",
      " |\n",
      " |  __setitem__(self, key, value, /)\n",
      " |      Set self[key] to value.\n",
      " |\n",
      " |  __sizeof__(...)\n",
      " |      D.__sizeof__() -> size of D in memory, in bytes\n",
      " |\n",
      " |  clear(...)\n",
      " |      D.clear() -> None.  Remove all items from D.\n",
      " |\n",
      " |  copy(...)\n",
      " |      D.copy() -> a shallow copy of D\n",
      " |\n",
      " |  get(self, key, default=None, /)\n",
      " |      Return the value for key if key is in the dictionary, else default.\n",
      " |\n",
      " |  items(...)\n",
      " |      D.items() -> a set-like object providing a view on D's items\n",
      " |\n",
      " |  keys(...)\n",
      " |      D.keys() -> a set-like object providing a view on D's keys\n",
      " |\n",
      " |  pop(...)\n",
      " |      D.pop(k[,d]) -> v, remove specified key and return the corresponding value.\n",
      " |\n",
      " |      If the key is not found, return the default if given; otherwise,\n",
      " |      raise a KeyError.\n",
      " |\n",
      " |  popitem(self, /)\n",
      " |      Remove and return a (key, value) pair as a 2-tuple.\n",
      " |\n",
      " |      Pairs are returned in LIFO (last-in, first-out) order.\n",
      " |      Raises KeyError if the dict is empty.\n",
      " |\n",
      " |  setdefault(self, key, default=None, /)\n",
      " |      Insert key with a value of default if key is not in the dictionary.\n",
      " |\n",
      " |      Return the value for key if key is in the dictionary, else default.\n",
      " |\n",
      " |  update(...)\n",
      " |      D.update([E, ]**F) -> None.  Update D from dict/iterable E and F.\n",
      " |      If E is present and has a .keys() method, then does:  for k in E: D[k] = E[k]\n",
      " |      If E is present and lacks a .keys() method, then does:  for k, v in E: D[k] = v\n",
      " |      In either case, this is followed by: for k in F:  D[k] = F[k]\n",
      " |\n",
      " |  values(...)\n",
      " |      D.values() -> an object providing a view on D's values\n",
      " |\n",
      " |  ----------------------------------------------------------------------\n",
      " |  Class methods defined here:\n",
      " |\n",
      " |  __class_getitem__(...)\n",
      " |      See PEP 585\n",
      " |\n",
      " |  fromkeys(iterable, value=None, /)\n",
      " |      Create a new dictionary with keys from iterable and values set to value.\n",
      " |\n",
      " |  ----------------------------------------------------------------------\n",
      " |  Static methods defined here:\n",
      " |\n",
      " |  __new__(*args, **kwargs)\n",
      " |      Create and return a new object.  See help(type) for accurate signature.\n",
      " |\n",
      " |  ----------------------------------------------------------------------\n",
      " |  Data and other attributes defined here:\n",
      " |\n",
      " |  __hash__ = None\n",
      "\n"
     ]
    }
   ],
   "source": [
    "help(dict)"
   ]
  },
  {
   "cell_type": "code",
   "execution_count": 49,
   "id": "7611bcca-b2b5-4444-a0d4-586fa5d19260",
   "metadata": {},
   "outputs": [],
   "source": [
    "import test_file"
   ]
  },
  {
   "cell_type": "code",
   "execution_count": 62,
   "id": "af979994-91e4-429a-a871-db0966173c69",
   "metadata": {},
   "outputs": [
    {
     "name": "stdout",
     "output_type": "stream",
     "text": [
      "the value of 1 variable is \t 1 \t its is is \t\n",
      "\n",
      "\n",
      "\n"
     ]
    }
   ],
   "source": [
    "test_file.showDetails(1)"
   ]
  },
  {
   "cell_type": "code",
   "execution_count": 63,
   "id": "46075499-3971-4e00-96d2-44ebaa6d6a85",
   "metadata": {},
   "outputs": [
    {
     "data": {
      "text/plain": [
       "<function test_file.showDetails(*args)>"
      ]
     },
     "execution_count": 63,
     "metadata": {},
     "output_type": "execute_result"
    }
   ],
   "source": [
    "import test_file as tf\n",
    "tf.showDetails"
   ]
  },
  {
   "cell_type": "code",
   "execution_count": 64,
   "id": "f9fe60ca-91e0-4e4b-9d9a-034cb0b8efb8",
   "metadata": {},
   "outputs": [],
   "source": [
    "from test_file import  showDetails as show"
   ]
  },
  {
   "cell_type": "code",
   "execution_count": 65,
   "id": "554a2540-9e0b-466f-9032-c48eb0188463",
   "metadata": {},
   "outputs": [
    {
     "name": "stdout",
     "output_type": "stream",
     "text": [
      "the value of 1 variable is \t 1 \t its is is \t\n",
      "\n",
      "\n",
      "\n"
     ]
    }
   ],
   "source": [
    "show(1)"
   ]
  },
  {
   "cell_type": "code",
   "execution_count": null,
   "id": "7e3d9e77-3e6b-413a-b461-01c4e4e0b438",
   "metadata": {},
   "outputs": [],
   "source": [
    "Write a program that takes 2 input from user 1 is mass and 2 accelaration and return its force"
   ]
  },
  {
   "cell_type": "code",
   "execution_count": 71,
   "id": "82a2cb14-55f2-4901-a5b6-c0da31c86f61",
   "metadata": {},
   "outputs": [
    {
     "name": "stdin",
     "output_type": "stream",
     "text": [
      "Enter the mass (in kilograms):  1234567\n",
      "Enter the acceleration (in meters per second squared):  9.8\n"
     ]
    },
    {
     "name": "stdout",
     "output_type": "stream",
     "text": [
      "The force is 12098756.600000001 Newtons.\n"
     ]
    }
   ],
   "source": [
    "# Function to calculate force\n",
    "def calculate_force(mass, acceleration):\n",
    "    return mass * acceleration\n",
    "\n",
    "# Take input from the user\n",
    "mass = float(input(\"Enter the mass (in kilograms): \"))\n",
    "acceleration = float(input(\"Enter the acceleration (in meters per second squared): \"))\n",
    "\n",
    "# Calculate the force\n",
    "force = calculate_force(mass, acceleration)\n",
    "\n",
    "# Display the result\n",
    "print(f\"The force is {force} Newtons.\")\n"
   ]
  },
  {
   "cell_type": "code",
   "execution_count": null,
   "id": "c74aa4d3-c397-41e6-9885-b6aac616d8bc",
   "metadata": {},
   "outputs": [],
   "source": []
  }
 ],
 "metadata": {
  "kernelspec": {
   "display_name": "Python 3 (ipykernel)",
   "language": "python",
   "name": "python3"
  },
  "language_info": {
   "codemirror_mode": {
    "name": "ipython",
    "version": 3
   },
   "file_extension": ".py",
   "mimetype": "text/x-python",
   "name": "python",
   "nbconvert_exporter": "python",
   "pygments_lexer": "ipython3",
   "version": "3.12.4"
  }
 },
 "nbformat": 4,
 "nbformat_minor": 5
}
