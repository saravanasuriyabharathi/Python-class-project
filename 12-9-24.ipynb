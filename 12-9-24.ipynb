{
 "cells": [
  {
   "cell_type": "code",
   "execution_count": 5,
   "id": "1b9e844c-351f-4936-8b34-da4ea6dcaf7a",
   "metadata": {},
   "outputs": [
    {
     "name": "stdin",
     "output_type": "stream",
     "text": [
      "Enter the directory address:  C:\\Users\\gupta\\OneDrive\\Documents\n"
     ]
    },
    {
     "name": "stdout",
     "output_type": "stream",
     "text": [
      "File names in the directory:\n",
      "1.pdf\n",
      "10TH.pdf\n",
      "12TH.pdf\n",
      "adhar.pdf\n",
      "Arjun kumar Gupta 590016371.pdf\n",
      "ARJUN.jpg\n",
      "bca marksheets.pdf\n",
      "desktop.ini\n",
      "harshit major project (1).docx\n",
      "hello.py\n",
      "installationoutput.py.py\n",
      "Iris.csv\n",
      "major project anshu.docx\n",
      "mg.pdf\n",
      "MUMMY SIGN.jpg\n",
      "MY SING.jpg\n",
      "nikki.docx\n",
      "numeric datatype.py\n",
      "Online-Food-Order-Project (1).docx\n",
      "python instolation.py.py\n",
      "simpleinput output.py\n",
      "string operation.py\n",
      "TOPIC ACTIVITY 1 - NOISE POLLUTION[1].pptx\n"
     ]
    }
   ],
   "source": [
    "# write a program that takes directory address from user and returns a list of file names in that array, use os module to perform this operation \n",
    "\n",
    "import os\n",
    "def get_file_names(directory):\n",
    "    \"\"\"\n",
    "    Returns a list of file names in the given directory.\n",
    "    \"\"\"\n",
    "    file_names = []\n",
    "    for file in os.listdir(directory):\n",
    "        if os.path.isfile(os.path.join(directory, file)):\n",
    "            file_names.append(file)\n",
    "    return file_names\n",
    "# Get directory address from user\n",
    "directory = input(\"Enter the directory address: \")\n",
    "# Call the function to get file names\n",
    "file_names = get_file_names(directory)\n",
    "# Print the list of file names\n",
    "print(\"File names in the directory:\")\n",
    "for file in file_names:\n",
    "    print(file)"
   ]
  },
  {
   "cell_type": "code",
   "execution_count": null,
   "id": "6218d731-c424-4fe8-b965-6b53eb5864e0",
   "metadata": {},
   "outputs": [],
   "source": [
    "#wap that generates list of email address using list of sapids\n",
    "\n",
    "#generate email address using sapid\n",
    "#sapid\n",
    "#12431324134\n",
    "#email\n",
    "#\n",
    "sapids=[123,234324,345345,4545]\n",
    "list_of_emails=#your logic"
   ]
  },
  {
   "cell_type": "code",
   "execution_count": 6,
   "id": "6a81bcd4-52d2-425a-9456-a705ae7e8616",
   "metadata": {},
   "outputs": [
    {
     "data": {
      "text/plain": [
       "['123@stu.upes.in',\n",
       " '234324@stu.upes.in',\n",
       " '345345@stu.upes.in',\n",
       " '4545@stu.upes.in']"
      ]
     },
     "execution_count": 6,
     "metadata": {},
     "output_type": "execute_result"
    }
   ],
   "source": [
    "sapids =[123,234324,345345,4545]\n",
    "def id2email(id):\n",
    "    return str(id) + \"@stu.upes.in\"\n",
    "\n",
    "def sapids_to_emails(sapids):\n",
    "    emails = []\n",
    "    for id in sapids:\n",
    "        email =id2email(id)\n",
    "        emails.append(email)\n",
    "    return emails\n",
    "list_of_emails =sapids_to_emails(sapids)\n",
    "list_of_emails"
   ]
  },
  {
   "cell_type": "code",
   "execution_count": 10,
   "id": "5ebc3812-b0d2-4d69-bc5f-a5452643df3b",
   "metadata": {},
   "outputs": [
    {
     "data": {
      "text/plain": [
       "<map at 0x27a888efa60>"
      ]
     },
     "execution_count": 10,
     "metadata": {},
     "output_type": "execute_result"
    }
   ],
   "source": [
    "# secnod logic\n",
    "sapids =[123,234324,345345,4545]\n",
    "def id2email(id):\n",
    "    return str(id) + \"@stu.upes.in\"\n",
    "\n",
    "list_of_emails =map(id2email,sapids)\n",
    "list_of_emails"
   ]
  },
  {
   "cell_type": "code",
   "execution_count": 11,
   "id": "ef34f387-2af3-46ea-ab42-d73feff769d3",
   "metadata": {},
   "outputs": [
    {
     "data": {
      "text/plain": [
       "<map at 0x27a88a1e770>"
      ]
     },
     "execution_count": 11,
     "metadata": {},
     "output_type": "execute_result"
    }
   ],
   "source": [
    "# secnod logic\n",
    "sapids =[123,234324,345345,4545]\n",
    "def id2email(id):\n",
    "    return str(id) + \"@stu.upes.in\"\n",
    "\n",
    "list_of_emails =map(lambda id: str(id)+\"@stu.upes.ac.in\",sapids)\n",
    "list_of_emails"
   ]
  },
  {
   "cell_type": "code",
   "execution_count": null,
   "id": "c0b68183-3ebb-43f2-9368-4b0495d17223",
   "metadata": {},
   "outputs": [],
   "source": []
  }
 ],
 "metadata": {
  "kernelspec": {
   "display_name": "Python 3 (ipykernel)",
   "language": "python",
   "name": "python3"
  },
  "language_info": {
   "codemirror_mode": {
    "name": "ipython",
    "version": 3
   },
   "file_extension": ".py",
   "mimetype": "text/x-python",
   "name": "python",
   "nbconvert_exporter": "python",
   "pygments_lexer": "ipython3",
   "version": "3.12.5"
  }
 },
 "nbformat": 4,
 "nbformat_minor": 5
}
